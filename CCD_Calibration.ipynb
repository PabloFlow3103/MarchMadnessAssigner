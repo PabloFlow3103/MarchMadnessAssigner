{
 "cells": [
  {
   "cell_type": "code",
   "execution_count": null,
   "metadata": {
    "jupyter": {
     "source_hidden": true
    }
   },
   "outputs": [],
   "source": [
    "%matplotlib inline\n",
    "\n",
    "import numpy as np\n",
    "import matplotlib.pyplot as plt\n",
    "import pandas as pd\n",
    "import astropy\n",
    "from astropy.io import fits\n",
    "from matplotlib import rcParams\n",
    "from astropy.wcs import WCS \n",
    "from pathlib import Path\n",
    "rcParams['figure.figsize'] = [12., 12.]\n"
   ]
  },
  {
   "cell_type": "markdown",
   "metadata": {},
   "source": [
    "# Read in a fits file to plot"
   ]
  },
  {
   "cell_type": "code",
   "execution_count": null,
   "metadata": {},
   "outputs": [],
   "source": [
    "fits_file= \"d100.fits\"\n",
    "\n",
    "with fits.open(fits_file) as hdul: \n",
    "    #create 2d array in galactic coordinates\n",
    "    data = hdul[0].data\n",
    "    header = hdul[0].header\n",
    "    "
   ]
  },
  {
   "cell_type": "markdown",
   "metadata": {},
   "source": [
    "# Graph with a log scale to see better"
   ]
  },
  {
   "cell_type": "code",
   "execution_count": null,
   "metadata": {},
   "outputs": [],
   "source": [
    "\n",
    "plt.imshow(np.log10(data), origin = 'lower', cmap = 'cividis', aspect= 'equal')\n",
    "plt.savefig(\"Bias_Image.pdf\")"
   ]
  },
  {
   "cell_type": "code",
   "execution_count": null,
   "metadata": {},
   "outputs": [],
   "source": [
    "#sanity check for histogram\n",
    "print(type(data.flatten()))\n",
    "print(data.flatten().shape)"
   ]
  },
  {
   "cell_type": "markdown",
   "metadata": {},
   "source": [
    "# Plot the flattened 2d array"
   ]
  },
  {
   "cell_type": "code",
   "execution_count": null,
   "metadata": {},
   "outputs": [],
   "source": [
    "plt.hist(data.flatten(),bins=50)\n",
    "plt.show()"
   ]
  },
  {
   "cell_type": "markdown",
   "metadata": {},
   "source": [
    "# I'm assuming tthe signal is creating an outlier value so if we log scale we may see the distribution better"
   ]
  },
  {
   "cell_type": "code",
   "execution_count": null,
   "metadata": {},
   "outputs": [],
   "source": [
    "plt.hist(np.log10(data.flatten()))\n",
    "plt.savefig(\"Count_Distribution.pdf\")\n",
    "# plt.show()"
   ]
  },
  {
   "cell_type": "markdown",
   "metadata": {},
   "source": [
    "# I looked up a read in method in astropy and a visualization technique to remove outliers (I realize I am removing 2% of the data)"
   ]
  },
  {
   "cell_type": "code",
   "execution_count": null,
   "metadata": {},
   "outputs": [],
   "source": [
    "image_data = fits.getdata(fits_file, est=0)\n",
    "print(image_data.flatten().shape)\n",
    "image_data = image_data[~np.isnan(image_data)]\n",
    "\n",
    "# removing the outliers at each end\n",
    "core = image_data[(image_data > np.percentile(image_data, 1)) & \n",
    "                     (image_data < np.percentile(image_data, 99))]\n",
    "histogram = plt.hist(core, bins='auto')\n",
    "plt.savefig(\"Count_Distribution.pdf\")"
   ]
  },
  {
   "cell_type": "code",
   "execution_count": null,
   "metadata": {},
   "outputs": [],
   "source": [
    "#Alternative method to flatten. Proabobly better\n",
    "# data_ravel = np.ravel(data)\n",
    "# np.shape(data_ravel)"
   ]
  },
  {
   "cell_type": "code",
   "execution_count": null,
   "metadata": {},
   "outputs": [],
   "source": [
    "# plt.hist(data_ravel.flatten(), bins=50)"
   ]
  },
  {
   "cell_type": "markdown",
   "metadata": {},
   "source": [
    "# Read in files from the folder instead of one at a time (if not located in same jupyter partition then you need to use the file path to the folders location) and then sort the bias and flats"
   ]
  },
  {
   "cell_type": "code",
   "execution_count": null,
   "metadata": {},
   "outputs": [],
   "source": [
    "\n",
    "directory = Path('.')\n",
    "\n",
    "\n",
    "fits_files = [f for f in directory.iterdir() if f.suffix.lower() == '.fits']\n",
    "image_data = []\n",
    "image_headers = []\n",
    "records=[]\n",
    "\n",
    "for f in fits_files:\n",
    "    with fits.open(f) as hdul:\n",
    "        image_data.append(hdul[0].data)\n",
    "        image_headers.append(hdul[0].header)\n",
    "\n",
    "bias_data = [\n",
    "    data for f, data in zip(fits_files, image_data)\n",
    "    if f.stem.startswith('d') and 100 <= int(f.stem.split('d')[-1]) <= 109\n",
    "]\n",
    "\n",
    "flats_data = [\n",
    "    data for f, data in zip(fits_files, image_data)\n",
    "    if f.stem.startswith('d') and 125 <= int(f.stem.split('d')[-1]) <= 140\n",
    "]\n"
   ]
  },
  {
   "cell_type": "markdown",
   "metadata": {},
   "source": [
    "# Plot bias mean"
   ]
  },
  {
   "cell_type": "code",
   "execution_count": null,
   "metadata": {},
   "outputs": [],
   "source": [
    "# stack bias into a 3d array, then take meadian (arg1,...) axis 0  to compute median pixel value\n",
    "plt.imshow(np.log10(np.median(np.stack(bias_data),axis=0)), origin = 'lower', cmap = 'cividis', aspect= 'equal')\n",
    "plt.savefig(\"bias_mean.pdf\")"
   ]
  },
  {
   "cell_type": "markdown",
   "metadata": {},
   "source": [
    "# Plot flat mean same way "
   ]
  },
  {
   "cell_type": "code",
   "execution_count": null,
   "metadata": {},
   "outputs": [],
   "source": [
    "plt.imshow(np.log10(np.median(np.stack(flats_data),axis=0)), origin = 'lower', cmap = 'cividis', aspect= 'equal')\n",
    "plt.savefig(\"Flat_mean.pdf\")"
   ]
  },
  {
   "cell_type": "markdown",
   "metadata": {},
   "source": [
    "# Subtraction Clean Flat"
   ]
  },
  {
   "cell_type": "code",
   "execution_count": null,
   "metadata": {},
   "outputs": [],
   "source": [
    "\n",
    "master_bias=np.median(np.stack(bias_data),axis=0)\n",
    "master_flat=np.median(np.stack(flats_data),axis=0)\n",
    "\n",
    "clean_flat=master_flat-master_bias\n"
   ]
  },
  {
   "cell_type": "markdown",
   "metadata": {},
   "source": [
    "# Normalize the Flats"
   ]
  },
  {
   "cell_type": "code",
   "execution_count": null,
   "metadata": {},
   "outputs": [],
   "source": [
    "normalized_flat= clean_flat / np.mean(master_flat)\n",
    "#normalized_flat = np.clip(normalized_flat, 0, None)  # set negative values to 0\n",
    "plt.imshow(np.log10(normalized_flat), origin = 'lower', cmap = 'cividis', aspect= 'equal')\n",
    "plt.savefig(\"Normalized_Flats.pdf\")"
   ]
  },
  {
   "cell_type": "code",
   "execution_count": null,
   "metadata": {},
   "outputs": [],
   "source": []
  },
  {
   "cell_type": "markdown",
   "metadata": {},
   "source": [
    "# Science Image"
   ]
  },
  {
   "cell_type": "code",
   "execution_count": null,
   "metadata": {},
   "outputs": [],
   "source": [
    "science_data = []\n",
    "science_headers = []\n",
    "for f, data, header in zip(fits_files, image_data, image_headers):\n",
    "    if f.stem.startswith('d') and 219 <= int(f.stem.split('d')[-1]) <= 227:\n",
    "        science_data.append(data)\n",
    "        science_headers.append(header)\n",
    "    "
   ]
  },
  {
   "cell_type": "code",
   "execution_count": null,
   "metadata": {},
   "outputs": [],
   "source": [
    "clean_science=[]\n",
    "for i in science_data:\n",
    "    #iterate through science images and append the operation to clean science\n",
    "    clean_science.append(i-master_bias)\n",
    "persec_science = []\n",
    "#this for loop pairs up iterations of both data frames, anything unpaired is ignored\n",
    "for img, header in zip(clean_science, science_headers):\n",
    "    #call exposure time\n",
    "    exptime = header.get('EXPTIME', 1) \n",
    "    #returns 1 if nan or 0  \n",
    "    #divide exposure time\n",
    "    persec_science.append(img / exptime)\n",
    "#take the median of persec\n",
    "master_science=np.median(np.stack(persec_science),axis=0)\n",
    "\n",
    "calibrated_scienceimage=[]\n",
    "#create calibrated by dividing master science by normalized flat\n",
    "calibrated_scienceimage=(master_science/normalized_flat)\n",
    "\n",
    "plt.imshow(np.log10(calibrated_scienceimage), origin = 'lower', cmap = 'cividis', aspect= 'equal')\n",
    "plt.savefig(\"Calibrated_Science_Image.pdf\")"
   ]
  },
  {
   "cell_type": "markdown",
   "metadata": {},
   "source": [
    "# Just plotted one science image"
   ]
  },
  {
   "cell_type": "code",
   "execution_count": null,
   "metadata": {},
   "outputs": [],
   "source": [
    "plt.imshow(np.log10(i/normalized_flat), origin = 'lower', cmap = 'cividis', aspect= 'equal')"
   ]
  },
  {
   "cell_type": "code",
   "execution_count": null,
   "metadata": {},
   "outputs": [],
   "source": []
  },
  {
   "cell_type": "code",
   "execution_count": null,
   "metadata": {},
   "outputs": [],
   "source": []
  }
 ],
 "metadata": {
  "kernelspec": {
   "display_name": "Python 3 (ipykernel)",
   "language": "python",
   "name": "python3"
  },
  "language_info": {
   "codemirror_mode": {
    "name": "ipython",
    "version": 3
   },
   "file_extension": ".py",
   "mimetype": "text/x-python",
   "name": "python",
   "nbconvert_exporter": "python",
   "pygments_lexer": "ipython3",
   "version": "3.12.6"
  }
 },
 "nbformat": 4,
 "nbformat_minor": 4
}
