{
 "cells": [
  {
   "cell_type": "code",
   "execution_count": 12,
   "id": "ac77471b-5c2e-47dc-97be-b08aa347482e",
   "metadata": {},
   "outputs": [],
   "source": [
    "import numpy as np\n",
    "import matplotlib.pyplot as plt\n",
    "import pandas as pd\n",
    "import random"
   ]
  },
  {
   "cell_type": "code",
   "execution_count": 23,
   "id": "2e780d05-d223-4e68-bc3e-d99ca048f169",
   "metadata": {},
   "outputs": [
    {
     "name": "stdout",
     "output_type": "stream",
     "text": [
      "Assignments saved to NCAA_2025_Team_Assignments.csv\n"
     ]
    }
   ],
   "source": [
    "csv_file_path = r\"C:\\Users\\FN-2187\\Downloads\\NCAA_2025_Bracket_Cover_Sheet - NCAA_2025_Bracket_Cover_Sheet.csv\"\n",
    "people = [\"Gio\", \"Scott\", \"Charlie\", \"Pablo\"]\n",
    "\n",
    "df = pd.read_csv(csv_file_path)\n",
    "\n",
    "# Create a dictionary to hold assignments\n",
    "assignments = {person: [] for person in people}\n",
    "\n",
    "# Organize teams by seed\n",
    "seed_dict = df.groupby(\"Seed\")[[\"Region\", \"Matchup\"]].apply(lambda x: x.values.tolist()).to_dict()\n",
    "\n",
    "# Assign teams so each person gets one per seed\n",
    "for seed, seed_teams in seed_dict.items():\n",
    "    random.shuffle(seed_teams)  # Shuffle teams for fairness\n",
    "    for i, (region, team) in enumerate(seed_teams):\n",
    "        person = people[i % len(people)]\n",
    "        assignments[person].append((seed, region, team))\n",
    "\n",
    "# Convert assignments to DataFrame and save to CSV\n",
    "assignments_list = [(person, seed, region, team) for person, teams in assignments.items() for seed, region, team in teams]\n",
    "assignments_df = pd.DataFrame(assignments_list, columns=[\"Person\", \"Seed\", \"Region\", \"Matchup\"])\n",
    "output_csv_path = \"NCAA_2025_Team_Assignments.csv\"\n",
    "assignments_df.to_csv(output_csv_path, index=False)\n",
    "\n",
    "print(f\"Assignments saved to {output_csv_path}\")\n",
    "\n"
   ]
  },
  {
   "cell_type": "code",
   "execution_count": 13,
   "id": "0443caa9-129c-47a7-a0e1-631d526b31cf",
   "metadata": {},
   "outputs": [
    {
     "name": "stdout",
     "output_type": "stream",
     "text": [
      "Assignments saved to NCAA_2025_Team_Assignments.txt\n"
     ]
    }
   ],
   "source": [
    "# text_file_path = r\"C:\\Users\\FN-2187\\Downloads\\NCAA_2025_Bracket_Cover_Sheet.csv\"\n",
    "# people = [\"Gio\", \"Scott\", \"Charlie\", \"Pablo\"]\n",
    "\n",
    "# # Read TXT file into a list\n",
    "# with open(text_file_path, \"r\") as file:\n",
    "#     lines = file.readlines()\n",
    "\n",
    "# # Extract teams, assuming one per line\n",
    "# teams = [line.strip() for line in lines if line.strip()]\n",
    "\n",
    "# # Create a dictionary to hold assignments\n",
    "# assignments = {person: [] for person in people}\n",
    "\n",
    "# # Iterate over each seed and assign one team per person\n",
    "# seed_dict = {}\n",
    "# for team in teams:\n",
    "#     parts = team.split(\". \", 1)\n",
    "#     if len(parts) == 2:\n",
    "#         seed, matchup = parts\n",
    "#         if seed not in seed_dict:\n",
    "#             seed_dict[seed] = []\n",
    "#         seed_dict[seed].append(matchup)\n",
    "\n",
    "# # Assign teams so each person gets one per seed\n",
    "# for seed, seed_teams in seed_dict.items():\n",
    "#     random.shuffle(seed_teams)  # Shuffle teams for fairness\n",
    "#     for i, team in enumerate(seed_teams):\n",
    "#         person = people[i % len(people)]\n",
    "#         assignments[person].append(f\"Seed {seed}: {team}\")\n",
    "\n",
    "# # Write assignments to a text file\n",
    "# output_file_path = \"NCAA_2025_Team_Assignments.txt\"\n",
    "# with open(output_file_path, \"w\") as file:\n",
    "#     for person, assigned_teams in assignments.items():\n",
    "#         file.write(f\"{person} gets:\\n\")\n",
    "#         for team in assigned_teams:\n",
    "#             file.write(f\" - {team}\\n\")\n",
    "#         file.write(\"\\n\")\n",
    "\n",
    "# print(f\"Assignments saved to {output_file_path}\")"
   ]
  },
  {
   "cell_type": "code",
   "execution_count": null,
   "id": "345928d4-254f-4e98-a3a2-c8b05c69db7f",
   "metadata": {},
   "outputs": [],
   "source": []
  },
  {
   "cell_type": "code",
   "execution_count": null,
   "id": "526a6a1d-9b4c-4ca0-bb97-ea1ceedfd85d",
   "metadata": {},
   "outputs": [],
   "source": []
  },
  {
   "cell_type": "code",
   "execution_count": null,
   "id": "98d41db2-c646-4959-aa0f-c3903661c6da",
   "metadata": {},
   "outputs": [],
   "source": []
  }
 ],
 "metadata": {
  "kernelspec": {
   "display_name": "Python 3 (ipykernel)",
   "language": "python",
   "name": "python3"
  },
  "language_info": {
   "codemirror_mode": {
    "name": "ipython",
    "version": 3
   },
   "file_extension": ".py",
   "mimetype": "text/x-python",
   "name": "python",
   "nbconvert_exporter": "python",
   "pygments_lexer": "ipython3",
   "version": "3.12.6"
  }
 },
 "nbformat": 4,
 "nbformat_minor": 5
}
